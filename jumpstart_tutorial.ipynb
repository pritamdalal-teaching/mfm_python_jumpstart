{
 "cells": [
  {
   "cell_type": "markdown",
   "metadata": {},
   "source": [
    "# Python Jumpstart"
   ]
  },
  {
   "cell_type": "markdown",
   "metadata": {},
   "source": [
    "The purpose of this tutorial is to introduce you to Jupyter notebook files, and give a glimpse of how to use them to work with financial data. \n",
    "\n",
    "In particular, we will visualize some stock data to observe the leverage effect: when the market suffers losses, prices become more volatile."
   ]
  },
  {
   "cell_type": "markdown",
   "metadata": {},
   "source": [
    "## What is a Notebook?"
   ]
  },
  {
   "cell_type": "markdown",
   "metadata": {},
   "source": [
    "This file - the one you are currently interacting with - is a **Jupyter Notebook**.  \n",
    "\n",
    "The notebook format conveniently allows you to combine words/sentences, computer code, code output (including plots), and mathematical notation.  Notebooks have proven to be convenient and productive programming environment for data analysis.\n",
    "\n",
    "For those of you familiar with R, a Jupyter Notebook is similar in functionality to R markdown notebooks.\n",
    "\n",
    "Even though it opens up in your browser, a Jupyter notebook does not on live on the internet, it lives on your computer.  Your web browser is simply being used as a piece of software to view and interact with the notebook.\n",
    "\n",
    "At its heart, a notebook is a series of *cells*.  There are two kinds of cells: 1) code cells that contain (usually) python code; 2) markdown cells which contain markdown or latex."
   ]
  },
  {
   "cell_type": "markdown",
   "metadata": {},
   "source": [
    "## Code Cells"
   ]
  },
  {
   "cell_type": "markdown",
   "metadata": {},
   "source": [
    "This is a code cell - try typing the code that is commented out and the press **shift + enter**."
   ]
  },
  {
   "cell_type": "code",
   "execution_count": 1,
   "metadata": {},
   "outputs": [],
   "source": [
    "##> from IPython.display import Image\n",
    "##> Image(\"not_ethical.png\", height=300, width=300)\n",
    "\n",
    "\n"
   ]
  },
  {
   "cell_type": "markdown",
   "metadata": {},
   "source": [
    "Congratulations!  You have just written your first bit of Python code."
   ]
  },
  {
   "cell_type": "markdown",
   "metadata": {},
   "source": [
    "## Edit Mode vs Command Mode"
   ]
  },
  {
   "cell_type": "markdown",
   "metadata": {},
   "source": [
    "There are two modes in a notebook: 1) `edit` mode; 2) `command` mode.  \n",
    "\n",
    "In `edit` mode you are *inside* a cell and you can edit the contents of the cell.  \n",
    "\n",
    "In `command` mode, you are outside the cells and you can navigate between them.  "
   ]
  },
  {
   "cell_type": "markdown",
   "metadata": {},
   "source": [
    "## Keyboard Shortcuts"
   ]
  },
  {
   "cell_type": "markdown",
   "metadata": {},
   "source": [
    "Learning keyboard shortcuts will greatly improve your data analysis productivity.\n",
    "\n",
    "Here are some of my favorite keyboard shortcuts:\n",
    "\n",
    "edit mode: **enter**\n",
    "\n",
    "cmd mode: **esc**\n",
    "\n",
    "insert cell above: **a**\n",
    "\n",
    "insert cell below: **b**\n",
    "\n",
    "switch to code cell: **y**\n",
    "\n",
    "switch to markup cell: **m**\n",
    "\n",
    "execute cell: **shift + enter**\n",
    "\n",
    "navigate up: **k**\n",
    "\n",
    "navigate down: **j**\n",
    "\n",
    "delete cell: **d, d** (press **d** twice)"
   ]
  },
  {
   "cell_type": "markdown",
   "metadata": {},
   "source": [
    "# Importing Packages"
   ]
  },
  {
   "cell_type": "markdown",
   "metadata": {},
   "source": [
    "The power and convenience of Python as a data analysis tool comes from the ecosystem of freely available third party packages.\n",
    "\n",
    "Here are the packages that we will be using today:\n",
    "\n",
    "`numpy` - efficient vector and matrix computations\n",
    "\n",
    "`pandas` - working with `DataFrames`\n",
    "\n",
    "`pandas_datareader` - reading data from Yahoo Finance\n",
    "\n",
    "The following code imports these packages and assigns them each an alias."
   ]
  },
  {
   "cell_type": "code",
   "execution_count": 3,
   "metadata": {},
   "outputs": [],
   "source": [
    "##> import numpy as np\n",
    "##> import pandas as pd\n",
    "##> import pandas_datareader as web\n",
    "\n",
    "\n"
   ]
  },
  {
   "cell_type": "markdown",
   "metadata": {},
   "source": [
    "## Reading-In Stock Data"
   ]
  },
  {
   "cell_type": "markdown",
   "metadata": {},
   "source": [
    "Let's begin by reading in 5 years of SPY price data from Yahoo Finance.  \n",
    "\n",
    "SPY is an ETF that tracks the performace of the SP500 stock index."
   ]
  },
  {
   "cell_type": "code",
   "execution_count": 4,
   "metadata": {},
   "outputs": [],
   "source": [
    "##> df_spy = web.get_data_yahoo('SPY', start='2014-01-01', end='2019-01-01')\n",
    "##> df_spy = df_spy.round(2)\n",
    "##> df_spy.head()\n",
    "\n",
    "\n"
   ]
  },
  {
   "cell_type": "markdown",
   "metadata": {},
   "source": [
    "Our stock data now lives in the variable called `df_spy`, which is a data structure known as a `DataFrame`.  We can see this by using the following code:"
   ]
  },
  {
   "cell_type": "code",
   "execution_count": 5,
   "metadata": {},
   "outputs": [],
   "source": [
    "##> type(df_spy)\n",
    "\n"
   ]
  },
  {
   "cell_type": "markdown",
   "metadata": {},
   "source": [
    "Learning to work with and manipulate is `DataFrames` is the foundation for doing data analysis in Python.  There is a lot to learn about this, and we are barely going to scratch the service today."
   ]
  },
  {
   "cell_type": "markdown",
   "metadata": {},
   "source": [
    "## Calculating Daily Returns"
   ]
  },
  {
   "cell_type": "markdown",
   "metadata": {},
   "source": [
    "Later in our analysis we will need daily returns.  So let's calculate those now.  \n",
    "\n",
    "In a traditional programming language you might need to write a `for` loop to iterate through the rows of `df_spy` and calculate the returns one by one.\n",
    "\n",
    "In Python, we can use a shorthand called `vectorized code` to perform these calculations with very little typing:"
   ]
  },
  {
   "cell_type": "code",
   "execution_count": 6,
   "metadata": {},
   "outputs": [],
   "source": [
    "##> df_spy['ret'] = df_spy['Close'] / df_spy['Close'].shift(1) - 1\n",
    "##> df_spy.head()\n",
    "\n",
    "\n"
   ]
  },
  {
   "cell_type": "markdown",
   "metadata": {},
   "source": [
    "Vectorized code is a hallmark of data analysis programming."
   ]
  },
  {
   "cell_type": "markdown",
   "metadata": {},
   "source": [
    "## Visualizing Close Prices"
   ]
  },
  {
   "cell_type": "markdown",
   "metadata": {},
   "source": [
    "Visualization is a critical skill in data analysis.  Python has a wide variety of packages that can be used for visualization.  For this tutorial, we will focus on built-in plotting capabilities of `pandas`.  These capabilities are built on top of the `matplotlib` package, which is the foundation of much of visualization in Python.\n",
    "\n",
    "In order to see our plots in this notebook, we will need to run the following *magic* command."
   ]
  },
  {
   "cell_type": "code",
   "execution_count": 7,
   "metadata": {},
   "outputs": [],
   "source": [
    "##> %matplotlib inline\n",
    "\n"
   ]
  },
  {
   "cell_type": "markdown",
   "metadata": {},
   "source": [
    "Pandas has a `DataFrame.plot()` method that makes creating simple line graphs quite easy."
   ]
  },
  {
   "cell_type": "code",
   "execution_count": 8,
   "metadata": {},
   "outputs": [],
   "source": [
    "##> df_spy['Close'].plot();\n",
    "\n"
   ]
  },
  {
   "cell_type": "markdown",
   "metadata": {},
   "source": [
    "For the purposes of exploratory data analysis (EDA), this plot may be all that you need.  However, if we intended to share this graph in a publication or presentation, there are a variety of shortcomings that we would need address by utilizing various arguments of the `.plot()` method.\n",
    "\n",
    "Here is some code that cleans up this graph and makes it more readable."
   ]
  },
  {
   "cell_type": "code",
   "execution_count": 9,
   "metadata": {},
   "outputs": [],
   "source": [
    "##> ax = df_spy['Close'].\\\n",
    "##>         plot(\n",
    "##>             title = 'SPY: 2014-2018'\n",
    "##>             , grid = True\n",
    "##>             , style = 'k'\n",
    "##>             , alpha = 0.75\n",
    "##>             , figsize = (7, 4)\n",
    "##>         );\n",
    "##> ax.set_xlabel('Trade Date');\n",
    "##> ax.set_ylabel('Close Price');\n",
    "\n",
    "\n"
   ]
  },
  {
   "cell_type": "markdown",
   "metadata": {},
   "source": [
    "## Visualizing Returns"
   ]
  },
  {
   "cell_type": "markdown",
   "metadata": {},
   "source": [
    "Pandas also gives us the ability to simultaneously plot two different columns of a `DataFrame` in a single graph, with separate subplots.  Here is what that code looks like:"
   ]
  },
  {
   "cell_type": "code",
   "execution_count": 10,
   "metadata": {},
   "outputs": [],
   "source": [
    "##> df_spy[['Close', 'ret']].\\\n",
    "##>     plot(subplots=True, style='k', alpha=0.75, figsize=(6, 6), grid=True);\n",
    "\n",
    "\n"
   ]
  },
  {
   "cell_type": "markdown",
   "metadata": {},
   "source": [
    "The `returns` graph above is a bit of a hack, but it's used all the time in finance to demonstrate volatility clustering.\n",
    "\n",
    "Notice that whenever there is a sharp drop in the `Close` price graph, that the magnitude of the nearby returns becomes large.  In contrast, during periods of steady growth (e.g. all of 2017) the magnitude of the returns is small."
   ]
  },
  {
   "cell_type": "markdown",
   "metadata": {},
   "source": [
    "## Calculating Realized Volatility"
   ]
  },
  {
   "cell_type": "markdown",
   "metadata": {},
   "source": [
    "Realized volatility is defined as the standard deviation of the daily returns, and it indicateds how much variability in the stock price there has been.  It is a matter of convention to annualize this quantity, so we multiply it by $\\sqrt{252}$.\n",
    "\n",
    "The following vectorized code calculates a rolling 2-month volatility for our SPY price data."
   ]
  },
  {
   "cell_type": "code",
   "execution_count": 11,
   "metadata": {},
   "outputs": [],
   "source": [
    "##> pd.options.display.max_rows = 6\n",
    "##> df_spy['ret'].rolling(42).std() * np.sqrt(252)\n",
    "\n",
    "\n"
   ]
  },
  {
   "cell_type": "markdown",
   "metadata": {},
   "source": [
    "Let's add these realized volatility calculations to`df_spy` this with the following code: "
   ]
  },
  {
   "cell_type": "code",
   "execution_count": 12,
   "metadata": {},
   "outputs": [],
   "source": [
    "##> df_spy['realized_vol'] = \\\n",
    "##>     df_spy['ret'].rolling(42).std() * np.sqrt(252)\n",
    "\n",
    "\n"
   ]
  },
  {
   "cell_type": "markdown",
   "metadata": {},
   "source": [
    "Now let's take a look at our updated `DataFrame`:"
   ]
  },
  {
   "cell_type": "code",
   "execution_count": 13,
   "metadata": {},
   "outputs": [],
   "source": [
    "##> pd.options.display.max_rows = 10\n",
    "##> df_spy\n",
    "\n",
    "\n"
   ]
  },
  {
   "cell_type": "markdown",
   "metadata": {},
   "source": [
    "## Visualizing Realized Volatility"
   ]
  },
  {
   "cell_type": "markdown",
   "metadata": {},
   "source": [
    "We can easily add `realized_vol` to our graph with the following code:"
   ]
  },
  {
   "cell_type": "code",
   "execution_count": 14,
   "metadata": {},
   "outputs": [],
   "source": [
    "##> df_spy[['Close', 'realized_vol', 'ret']].\\\n",
    "##>     plot(subplots=True, style='k', alpha=0.75, figsize=(6, 9), grid=True);\n",
    "\n",
    "\n"
   ]
  },
  {
   "cell_type": "markdown",
   "metadata": {},
   "source": [
    "This graph is a great illustration of the leverage effect.  When the SPY price suffers losses, there is a spike in realized volatility, and the magnitude of the nearby returns increases."
   ]
  },
  {
   "cell_type": "markdown",
   "metadata": {},
   "source": [
    "## Further Reading"
   ]
  },
  {
   "cell_type": "markdown",
   "metadata": {},
   "source": [
    "*Python Data Science Handbook* - Jake VanderPlas\n",
    "\n",
    "*Python for Finance* - Yves Hilpisch\n",
    "\n",
    "*Data Science from Scratch* - Joel Grus\n",
    "\n",
    "*Python for Data Analysis* - Wes McKinney\n",
    "\n",
    "*Automate the Boring Stuff* - Al Sweigert"
   ]
  }
 ],
 "metadata": {
  "kernelspec": {
   "display_name": "Python 3",
   "language": "python",
   "name": "python3"
  },
  "language_info": {
   "codemirror_mode": {
    "name": "ipython",
    "version": 3
   },
   "file_extension": ".py",
   "mimetype": "text/x-python",
   "name": "python",
   "nbconvert_exporter": "python",
   "pygments_lexer": "ipython3",
   "version": "3.6.8"
  }
 },
 "nbformat": 4,
 "nbformat_minor": 2
}
